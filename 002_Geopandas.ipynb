{
 "cells": [
  {
   "cell_type": "markdown",
   "id": "fa016a3f-d757-43eb-a7eb-e8c0538ce4d7",
   "metadata": {},
   "source": [
    "### Working with Geopandas\n",
    "\n",
    "#### 1) Reading and Displaying Geospatial Datasets"
   ]
  },
  {
   "cell_type": "code",
   "execution_count": 1,
   "id": "5986aed0-5afb-4324-a9aa-174b22fdb830",
   "metadata": {
    "tags": []
   },
   "outputs": [],
   "source": [
    "# importing geopandas module\n",
    "import geopandas as gpd"
   ]
  },
  {
   "cell_type": "code",
   "execution_count": 2,
   "id": "bdbfc7ab-f6d4-4092-8f13-00f6cfd833d8",
   "metadata": {},
   "outputs": [],
   "source": [
    "# Setting Input/Output Engine\n",
    "gpd.options.io_engine = \"fiona\"\n",
    "\n",
    "# For Latest Version of Geopandas\n",
    "# gpd.options.io_engine = \"pyogrio\""
   ]
  },
  {
   "cell_type": "code",
   "execution_count": 3,
   "id": "b2546d30-0049-4a2e-b142-b11298d0174e",
   "metadata": {
    "tags": []
   },
   "outputs": [],
   "source": [
    "# Reading Shapefile from Hardisk\n",
    "state = gpd.read_file(\"geodata/State.shp\")"
   ]
  },
  {
   "cell_type": "code",
   "execution_count": 4,
   "id": "ec0d1527-1686-4d20-9282-ac27f3f79c45",
   "metadata": {
    "tags": []
   },
   "outputs": [
    {
     "data": {
      "image/png": "[encoded data removed]",
      "text/plain": [
       "<Figure size 640x480 with 1 Axes>"
      ]
     },
     "metadata": {},
     "output_type": "display_data"
    }
   ],
   "source": [
    "# Visualising the Shapefile\n",
    "state.plot();"
   ]
  },
  {
   "cell_type": "code",
   "execution_count": 5,
   "id": "e079cc60-3345-4112-8bf2-233fe5e9370e",
   "metadata": {
    "tags": []
   },
   "outputs": [
    {
     "data": {
      "text/plain": [
       "<Projected CRS: EPSG:32643>\n",
       "Name: WGS 84 / UTM zone 43N\n",
       "Axis Info [cartesian]:\n",
       "- E[east]: Easting (metre)\n",
       "- N[north]: Northing (metre)\n",
       "Area of Use:\n",
       "- name: Between 72°E and 78°E, northern hemisphere between equator and 84°N, onshore and offshore. China. India. Kazakhstan. Kyrgyzstan. Maldives. Pakistan. Russian Federation. Tajikistan.\n",
       "- bounds: (72.0, 0.0, 78.0, 84.0)\n",
       "Coordinate Operation:\n",
       "- name: UTM zone 43N\n",
       "- method: Transverse Mercator\n",
       "Datum: World Geodetic System 1984 ensemble\n",
       "- Ellipsoid: WGS 84\n",
       "- Prime Meridian: Greenwich"
      ]
     },
     "execution_count": 5,
     "metadata": {},
     "output_type": "execute_result"
    }
   ],
   "source": [
    "# Displaying Coordinate System Information of the Geospatial File (.Shp)\n",
    "state.crs"
   ]
  },
  {
   "cell_type": "code",
   "execution_count": 6,
   "id": "ae616c5b-65d7-479c-a193-7a55c34586de",
   "metadata": {
    "tags": []
   },
   "outputs": [
    {
     "data": {
      "text/plain": [
       "0    MULTIPOLYGON (((530654.289 1394659.955, 530651...\n",
       "Name: geometry, dtype: geometry"
      ]
     },
     "execution_count": 6,
     "metadata": {},
     "output_type": "execute_result"
    }
   ],
   "source": [
    "# Checking the Count of Features\n",
    "state.geometry"
   ]
  },
  {
   "cell_type": "code",
   "execution_count": null,
   "id": "a97bbb1b-6dfd-4c6c-84a1-fc894ba2ca00",
   "metadata": {},
   "outputs": [
    {
     "data": {
      "text/plain": [
       "1"
      ]
     },
     "execution_count": 7,
     "metadata": {},
     "output_type": "execute_result"
    }
   ],
   "source": [
    "state.geometry.count()"
   ]
  },
  {
   "cell_type": "code",
   "execution_count": 8,
   "id": "db9bc18f-eb1b-49ad-8634-d763a5f85def",
   "metadata": {
    "tags": []
   },
   "outputs": [
    {
     "data": {
      "text/plain": [
       "Index(['KGISStateI', 'KGISStateC', 'KGISStateN', 'created_us', 'created_da',\n",
       "       'last_edite', 'last_edi_1', 'SHAPE_STAr', 'SHAPE_STLe', 'geometry'],\n",
       "      dtype='object')"
      ]
     },
     "execution_count": 8,
     "metadata": {},
     "output_type": "execute_result"
    }
   ],
   "source": [
    "# Checking the Attributes Headers\n",
    "state.columns"
   ]
  },
  {
   "cell_type": "code",
   "execution_count": 9,
   "id": "14323542-29b8-4d39-8582-662539562a67",
   "metadata": {
    "tags": []
   },
   "outputs": [
    {
     "data": {
      "text/plain": [
       "10"
      ]
     },
     "execution_count": 9,
     "metadata": {},
     "output_type": "execute_result"
    }
   ],
   "source": [
    "len(state.columns)"
   ]
  },
  {
   "cell_type": "code",
   "execution_count": 10,
   "id": "3629591d-2b1d-412f-a373-6d73c9ff7756",
   "metadata": {
    "tags": []
   },
   "outputs": [
    {
     "data": {
      "text/html": [
       "<div>\n",
       "<style scoped>\n",
       "    .dataframe tbody tr th:only-of-type {\n",
       "        vertical-align: middle;\n",
       "    }\n",
       "\n",
       "    .dataframe tbody tr th {\n",
       "        vertical-align: top;\n",
       "    }\n",
       "\n",
       "    .dataframe thead th {\n",
       "        text-align: right;\n",
       "    }\n",
       "</style>\n",
       "<table border=\"1\" class=\"dataframe\">\n",
       "  <thead>\n",
       "    <tr style=\"text-align: right;\">\n",
       "      <th></th>\n",
       "      <th>KGISStateI</th>\n",
       "      <th>KGISStateC</th>\n",
       "      <th>KGISStateN</th>\n",
       "      <th>created_us</th>\n",
       "      <th>created_da</th>\n",
       "      <th>last_edite</th>\n",
       "      <th>last_edi_1</th>\n",
       "      <th>SHAPE_STAr</th>\n",
       "      <th>SHAPE_STLe</th>\n",
       "      <th>geometry</th>\n",
       "    </tr>\n",
       "  </thead>\n",
       "  <tbody>\n",
       "    <tr>\n",
       "      <th>0</th>\n",
       "      <td>1</td>\n",
       "      <td>29</td>\n",
       "      <td>Karnataka</td>\n",
       "      <td>None</td>\n",
       "      <td>None</td>\n",
       "      <td>SURESHBV1</td>\n",
       "      <td>2022-12-02</td>\n",
       "      <td>1.918512e+11</td>\n",
       "      <td>4.777528e+06</td>\n",
       "      <td>MULTIPOLYGON (((530654.289 1394659.955, 530651...</td>\n",
       "    </tr>\n",
       "  </tbody>\n",
       "</table>\n",
       "</div>"
      ],
      "text/plain": [
       "   KGISStateI KGISStateC KGISStateN created_us created_da last_edite  \\\n",
       "0           1         29  Karnataka       None       None  SURESHBV1   \n",
       "\n",
       "   last_edi_1    SHAPE_STAr    SHAPE_STLe  \\\n",
       "0  2022-12-02  1.918512e+11  4.777528e+06   \n",
       "\n",
       "                                            geometry  \n",
       "0  MULTIPOLYGON (((530654.289 1394659.955, 530651...  "
      ]
     },
     "execution_count": 10,
     "metadata": {},
     "output_type": "execute_result"
    }
   ],
   "source": [
    "# Displaying Complete Attribute Table\n",
    "state"
   ]
  }
 ],
 "metadata": {
  "kernelspec": {
   "display_name": "Python 3 (ipykernel)",
   "language": "python",
   "name": "python3"
  },
  "language_info": {
   "codemirror_mode": {
    "name": "ipython",
    "version": 3
   },
   "file_extension": ".py",
   "mimetype": "text/x-python",
   "name": "python",
   "nbconvert_exporter": "python",
   "pygments_lexer": "ipython3",
   "version": "3.12.4"
  }
 },
 "nbformat": 4,
 "nbformat_minor": 5
}
