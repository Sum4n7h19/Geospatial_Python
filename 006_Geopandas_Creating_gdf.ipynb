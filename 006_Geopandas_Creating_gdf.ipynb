{
 "cells": [
  {
   "cell_type": "markdown",
   "id": "aac9f46b-cf55-49b9-9a49-bd0a83fb30de",
   "metadata": {},
   "source": [
    "# Geopandas - Creating Geometries into a Dataframe"
   ]
  },
  {
   "cell_type": "markdown",
   "id": "ce139c60-130a-4c07-a693-bc8cf976c6b7",
   "metadata": {},
   "source": [
    "<div style='background:#B1F9E3; color:#000000' class= 'alert alert-box'>\n",
    "    <b>refer:</b>\n",
    "<a href='https://automating-gis-processes.github.io/CSC/notebooks/L2/geopandas-basics.html#Creating-geometries-into-a-GeoDataFrame'>\n",
    "     https://automating-gis-processes.github.io/CSC/notebooks/L2/geopandas-basics.html#Creating-geometries-into-a-GeoDataFrame\n",
    "    </a>\n",
    "</div>"
   ]
  },
  {
   "cell_type": "code",
   "execution_count": 1,
   "id": "a1dea23f-c1b7-42e6-b1a7-4cc99982af9e",
   "metadata": {
    "tags": []
   },
   "outputs": [
    {
     "name": "stdout",
     "output_type": "stream",
     "text": [
      "Empty GeoDataFrame\n",
      "Columns: []\n",
      "Index: []\n"
     ]
    }
   ],
   "source": [
    "# Step 1: Let's Create empty GeoDataframe\n",
    "\n",
    "# Import necessary modules first\n",
    "import geopandas as gpd\n",
    "from shapely.geometry import Point, Polygon\n",
    "\n",
    "# Create an empty geopandas GeoDataFrame\n",
    "bu = gpd.GeoDataFrame()\n",
    "\n",
    "# Let's see what we have at the moment\n",
    "print(bu)"
   ]
  },
  {
   "cell_type": "code",
   "execution_count": 2,
   "id": "a7f72eb2-8dd1-4e46-b1c3-44a508203b90",
   "metadata": {
    "tags": []
   },
   "outputs": [
    {
     "name": "stdout",
     "output_type": "stream",
     "text": [
      "Empty GeoDataFrame\n",
      "Columns: [geometry]\n",
      "Index: []\n"
     ]
    },
    {
     "name": "stderr",
     "output_type": "stream",
     "text": [
      "C:\\Users\\wwwsu\\AppData\\Local\\Temp\\ipykernel_3772\\410328825.py:4: FutureWarning: You are adding a column named 'geometry' to a GeoDataFrame constructed without an active geometry column. Currently, this automatically sets the active geometry column to 'geometry' but in the future that will no longer happen. Instead, either provide geometry to the GeoDataFrame constructor (GeoDataFrame(... geometry=GeoSeries()) or use `set_geometry('geometry')` to explicitly set the active geometry column.\n",
      "  bu['geometry'] = None\n"
     ]
    }
   ],
   "source": [
    "# Step 2: Let’s create a new column called geometry that will contain our Shapely objects\n",
    "\n",
    "# Create a new column called 'geometry' to the GeoDataFrame\n",
    "bu['geometry'] = None\n",
    "\n",
    "# Let's again see what's inside\n",
    "print(bu)"
   ]
  },
  {
   "cell_type": "code",
   "execution_count": 3,
   "id": "c787a460-4812-4047-900c-95e266af92ab",
   "metadata": {
    "tags": []
   },
   "outputs": [
    {
     "name": "stdout",
     "output_type": "stream",
     "text": [
      "POLYGON ((76.620659675113 12.313946426567359, 76.6207465265104 12.313948667824983, 76.62075189092984 12.31366499841084, 76.6213366124901 12.313675480428103, 76.62133258917666 12.313597520424286, 76.62067094672325 12.313580768725606, 76.620659675113 12.313946426567359))\n"
     ]
    }
   ],
   "source": [
    "# Step 3: Let’s create a Shapely Polygon repsenting the a particular building that we can later insert to our GeoDataFrame\n",
    "\n",
    "# Coordinates of the DOS Geography building in Decimal Degrees\n",
    "coordinates = [(76.620659675113, 12.313946426567359),\n",
    "               (76.6207465265104, 12.313948667824983),\n",
    "               (76.62075189092984, 12.31366499841084),\n",
    "               (76.6213366124901, 12.313675480428103),\n",
    "               (76.62133258917666, 12.313597520424286),\n",
    "               (76.62067094672325, 12.313580768725606)\n",
    "              ]\n",
    "\n",
    "# Create a Shapely polygon from the coordinate-tuple list\n",
    "poly = Polygon(coordinates)\n",
    "\n",
    "# Let's see what we have\n",
    "print(poly)"
   ]
  },
  {
   "cell_type": "code",
   "execution_count": 4,
   "id": "4301beb8-a49a-4a6f-9f25-0b08f8c73c2a",
   "metadata": {
    "tags": []
   },
   "outputs": [
    {
     "name": "stdout",
     "output_type": "stream",
     "text": [
      "                                            geometry\n",
      "0  POLYGON ((76.62066 12.31395, 76.62075 12.31395...\n"
     ]
    }
   ],
   "source": [
    "#insert the polygon into ‘geometry’ column of BU of our GeoDataFrame at position 0:\n",
    "bu.loc[0, 'geometry'] = poly\n",
    "\n",
    "# Let's see what we have now\n",
    "print(bu)"
   ]
  },
  {
   "cell_type": "code",
   "execution_count": 5,
   "id": "9a5ad3d1-46b8-4a49-b617-def6c06cc42d",
   "metadata": {
    "tags": []
   },
   "outputs": [
    {
     "name": "stdout",
     "output_type": "stream",
     "text": [
      "                                            geometry          location\n",
      "0  POLYGON ((76.62066 12.31395, 76.62075 12.31395...  DOS in Geography\n"
     ]
    }
   ],
   "source": [
    "#let’s add another column to our GeoDataFrame called location with text \"DOS in Geography\" that describes the location of the feature.\n",
    "# Add a new column and insert data\n",
    "bu.loc[0, 'location'] = 'DOS in Geography'\n",
    "\n",
    "# Let's check the data\n",
    "print(bu)"
   ]
  },
  {
   "cell_type": "code",
   "execution_count": 6,
   "id": "08f85da4-e40c-44f5-ab1d-0d70c579b9d2",
   "metadata": {
    "tags": []
   },
   "outputs": [
    {
     "name": "stdout",
     "output_type": "stream",
     "text": [
      "None\n"
     ]
    }
   ],
   "source": [
    "# Since we created new GeoDataFrame, CRS is absent\n",
    "print(bu.crs)"
   ]
  },
  {
   "cell_type": "code",
   "execution_count": 7,
   "id": "88a5236a-90f9-44dd-a62a-37b18af99fcf",
   "metadata": {
    "tags": []
   },
   "outputs": [],
   "source": [
    "# Let’s add a crs for our GeoDataFrame.\n",
    "# A Python module called fiona has a nice function called from_epsg()\n",
    "# for passing the coordinate reference system information for the GeoDataFrame.\n",
    "# Next we will use that and determine the projection to WGS84 (epsg code: 4326):"
   ]
  },
  {
   "cell_type": "code",
   "execution_count": 8,
   "id": "50f69afa-2bd5-43da-a18d-f49a1a67eca6",
   "metadata": {
    "tags": []
   },
   "outputs": [
    {
     "name": "stdout",
     "output_type": "stream",
     "text": [
      "GEOGCS[\"WGS 84\",DATUM[\"WGS_1984\",SPHEROID[\"WGS 84\",6378137,298.257223563,AUTHORITY[\"EPSG\",\"7030\"]],AUTHORITY[\"EPSG\",\"6326\"]],PRIMEM[\"Greenwich\",0,AUTHORITY[\"EPSG\",\"8901\"]],UNIT[\"degree\",0.0174532925199433,AUTHORITY[\"EPSG\",\"9122\"]],AXIS[\"Latitude\",NORTH],AXIS[\"Longitude\",EAST],AUTHORITY[\"EPSG\",\"4326\"]]\n"
     ]
    }
   ],
   "source": [
    "# Import specific function 'from_epsg' from fiona module\n",
    "from fiona.crs import from_epsg\n",
    "\n",
    "# Set the GeoDataFrame's coordinate system to WGS84 (i.e. epsg code 4326)\n",
    "bu.crs = from_epsg(4326)\n",
    "\n",
    "# Let's see how the crs definition looks like\n",
    "print(bu.crs)"
   ]
  },
  {
   "cell_type": "code",
   "execution_count": 9,
   "id": "cb383ff7-f311-40c5-a1e0-de7e00d0f7b4",
   "metadata": {
    "tags": []
   },
   "outputs": [],
   "source": [
    "# Finally, we can export the GeoDataFrame using .to_file() -function\n",
    "bu.to_file('builtup_footprint.shp')"
   ]
  },
  {
   "cell_type": "code",
   "execution_count": 10,
   "id": "468c06b0-734b-4155-bc73-2832e5222294",
   "metadata": {
    "tags": []
   },
   "outputs": [],
   "source": [
    "#reading shapefile\n",
    "mybu = gpd.read_file('builtup_footprint.shp')"
   ]
  },
  {
   "cell_type": "code",
   "execution_count": 11,
   "id": "6b071c41-17ab-4534-9154-4d268fbb4fec",
   "metadata": {
    "tags": []
   },
   "outputs": [
    {
     "data": {
      "text/html": [
       "<div>\n",
       "<style scoped>\n",
       "    .dataframe tbody tr th:only-of-type {\n",
       "        vertical-align: middle;\n",
       "    }\n",
       "\n",
       "    .dataframe tbody tr th {\n",
       "        vertical-align: top;\n",
       "    }\n",
       "\n",
       "    .dataframe thead th {\n",
       "        text-align: right;\n",
       "    }\n",
       "</style>\n",
       "<table border=\"1\" class=\"dataframe\">\n",
       "  <thead>\n",
       "    <tr style=\"text-align: right;\">\n",
       "      <th></th>\n",
       "      <th>location</th>\n",
       "      <th>geometry</th>\n",
       "    </tr>\n",
       "  </thead>\n",
       "  <tbody>\n",
       "    <tr>\n",
       "      <th>0</th>\n",
       "      <td>DOS in Geography</td>\n",
       "      <td>POLYGON ((76.62066 12.31395, 76.62075 12.31395...</td>\n",
       "    </tr>\n",
       "  </tbody>\n",
       "</table>\n",
       "</div>"
      ],
      "text/plain": [
       "           location                                           geometry\n",
       "0  DOS in Geography  POLYGON ((76.62066 12.31395, 76.62075 12.31395..."
      ]
     },
     "execution_count": 11,
     "metadata": {},
     "output_type": "execute_result"
    }
   ],
   "source": [
    "mybu"
   ]
  },
  {
   "cell_type": "code",
   "execution_count": 12,
   "id": "3b73f5ad-369b-4872-b51a-d2d4b048d128",
   "metadata": {
    "tags": []
   },
   "outputs": [
    {
     "data": {
      "text/plain": [
       "<Geographic 2D CRS: EPSG:4326>\n",
       "Name: WGS 84\n",
       "Axis Info [ellipsoidal]:\n",
       "- Lat[north]: Geodetic latitude (degree)\n",
       "- Lon[east]: Geodetic longitude (degree)\n",
       "Area of Use:\n",
       "- name: World.\n",
       "- bounds: (-180.0, -90.0, 180.0, 90.0)\n",
       "Datum: World Geodetic System 1984 ensemble\n",
       "- Ellipsoid: WGS 84\n",
       "- Prime Meridian: Greenwich"
      ]
     },
     "execution_count": 12,
     "metadata": {},
     "output_type": "execute_result"
    }
   ],
   "source": [
    "mybu.crs"
   ]
  },
  {
   "cell_type": "code",
   "execution_count": 13,
   "id": "e7c3f09c-5495-4afd-b7d1-91a757f38374",
   "metadata": {
    "tags": []
   },
   "outputs": [
    {
     "data": {
      "text/plain": [
       "'WGS 84'"
      ]
     },
     "execution_count": 13,
     "metadata": {},
     "output_type": "execute_result"
    }
   ],
   "source": [
    "mybu.crs.name"
   ]
  },
  {
   "cell_type": "code",
   "execution_count": 14,
   "id": "c61a107f-d8bd-4d81-b5c8-6ba3e45ff6e3",
   "metadata": {
    "tags": []
   },
   "outputs": [
    {
     "data": {
      "image/png": "[encoded data removed]",
      "text/plain": [
       "<Figure size 640x480 with 1 Axes>"
      ]
     },
     "metadata": {},
     "output_type": "display_data"
    }
   ],
   "source": [
    "mybu.plot();"
   ]
  },
  {
   "cell_type": "code",
   "execution_count": 15,
   "id": "4d3949b4-e4cc-4d62-9594-4917056a15b6",
   "metadata": {
    "tags": []
   },
   "outputs": [
    {
     "data": {
      "image/png": "[encoded data removed]",
      "text/plain": [
       "<Figure size 640x480 with 1 Axes>"
      ]
     },
     "metadata": {},
     "output_type": "display_data"
    }
   ],
   "source": [
    "ax = mybu.plot()\n",
    "ax.set_axis_off()"
   ]
  }
 ],
 "metadata": {
  "kernelspec": {
   "display_name": "Python 3 (ipykernel)",
   "language": "python",
   "name": "python3"
  },
  "language_info": {
   "codemirror_mode": {
    "name": "ipython",
    "version": 3
   },
   "file_extension": ".py",
   "mimetype": "text/x-python",
   "name": "python",
   "nbconvert_exporter": "python",
   "pygments_lexer": "ipython3",
   "version": "3.12.4"
  }
 },
 "nbformat": 4,
 "nbformat_minor": 5
}
